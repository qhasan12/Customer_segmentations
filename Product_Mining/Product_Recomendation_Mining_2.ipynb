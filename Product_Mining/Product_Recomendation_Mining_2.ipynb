{
  "nbformat": 4,
  "nbformat_minor": 0,
  "metadata": {
    "colab": {
      "provenance": [],
      "gpuType": "T4"
    },
    "kernelspec": {
      "name": "python3",
      "display_name": "Python 3"
    },
    "language_info": {
      "name": "python"
    },
    "accelerator": "GPU"
  },
  "cells": [
    {
      "cell_type": "code",
      "source": [
        "import kagglehub\n",
        "\n",
        "# Download latest version\n",
        "path = kagglehub.dataset_download(\"psparks/instacart-market-basket-analysis\")\n",
        "\n",
        "print(\"Path to dataset files:\", path)"
      ],
      "metadata": {
        "colab": {
          "base_uri": "https://localhost:8080/"
        },
        "id": "hDInaShHm6p6",
        "outputId": "bd611e65-5579-491b-b8cf-e205fcc2073d"
      },
      "execution_count": 5,
      "outputs": [
        {
          "output_type": "stream",
          "name": "stdout",
          "text": [
            "Using Colab cache for faster access to the 'instacart-market-basket-analysis' dataset.\n",
            "Path to dataset files: /kaggle/input/instacart-market-basket-analysis\n"
          ]
        }
      ]
    },
    {
      "cell_type": "code",
      "source": [
        "import pandas as pd\n",
        "from mlxtend.preprocessing import TransactionEncoder\n",
        "from mlxtend.frequent_patterns import fpgrowth, association_rules\n",
        "import warnings\n",
        "\n",
        "warnings.filterwarnings('ignore', category=DeprecationWarning)"
      ],
      "metadata": {
        "id": "TF-8Jjzwovd6"
      },
      "execution_count": 6,
      "outputs": []
    },
    {
      "cell_type": "code",
      "execution_count": 7,
      "metadata": {
        "id": "7OpO0gwsmnkW"
      },
      "outputs": [],
      "source": [
        "aisles = pd.read_csv(f\"{path}/aisles.csv\")\n",
        "dept = pd.read_csv(f\"{path}/departments.csv\")\n",
        "products = pd.read_csv(f\"{path}/products.csv\")\n",
        "orders = pd.read_csv(f\"{path}/orders.csv\")\n",
        "order_products__prior = pd.read_csv(f\"{path}/order_products__prior.csv\")\n",
        "order_products__train = pd.read_csv(f\"{path}/order_products__train.csv\")\n",
        "\n",
        "# Preview first 5 rows of one file\n",
        "# aisles.head()"
      ]
    },
    {
      "cell_type": "code",
      "source": [
        "# ---------------------------\n",
        "# 2. Helper to Build Order-Product Dataset\n",
        "# ---------------------------\n",
        "def prepare_order_products(order_subset, products, aisles, dept, orders):\n",
        "    return (order_subset\n",
        "        .merge(products, on=\"product_id\", how=\"left\")\n",
        "        .merge(aisles, on=\"aisle_id\", how=\"left\")\n",
        "        .merge(dept, on=\"department_id\", how=\"left\")\n",
        "        .merge(orders[['order_id','user_id','order_dow','order_hour_of_day']],\n",
        "               on=\"order_id\", how=\"left\"))\n",
        "\n",
        "order_products_prior = prepare_order_products(order_products__prior, products, aisles, dept, orders)\n",
        "order_products_train = prepare_order_products(order_products__train, products, aisles, dept, orders)\n"
      ],
      "metadata": {
        "id": "OpTsI7ycVvTC"
      },
      "execution_count": 8,
      "outputs": []
    },
    {
      "cell_type": "code",
      "source": [
        "# ---------------------------\n",
        "# 3. Rule Builder\n",
        "# ---------------------------\n",
        "def build_rules(order_products, group_col, max_orders=5000, min_support=0.01):\n",
        "    transactions = order_products.groupby(\"order_id\")[group_col].apply(list).tolist()\n",
        "    transactions = transactions[:max_orders]\n",
        "\n",
        "    te = TransactionEncoder()\n",
        "    te_ary = te.fit(transactions).transform(transactions)\n",
        "    df = pd.DataFrame(te_ary, columns=te.columns_)\n",
        "\n",
        "    frequent_itemsets = fpgrowth(df, min_support=min_support, use_colnames=True)\n",
        "    rules = association_rules(frequent_itemsets, metric=\"lift\", min_threshold=1.0)\n",
        "    rules = rules.sort_values(by=[\"confidence\",\"lift\"], ascending=False)\n",
        "\n",
        "    return rules\n",
        "\n"
      ],
      "metadata": {
        "id": "QFVogNIHNw40"
      },
      "execution_count": 9,
      "outputs": []
    },
    {
      "cell_type": "code",
      "source": [
        "# ---------------------------\n",
        "# 4. Recommendation Function\n",
        "# ---------------------------\n",
        "def recommend(cart_items, rules, top_n=5):\n",
        "    cart_items = set(cart_items)\n",
        "    recs = []\n",
        "    for _, row in rules.iterrows():\n",
        "        if row['antecedents'].issubset(cart_items):\n",
        "            for consequent in row['consequents']:\n",
        "                if consequent not in cart_items:\n",
        "                    reason = (f\"Because you bought {', '.join(row['antecedents'])}, \"\n",
        "                              f\"customers also often buy {consequent}\")\n",
        "                    recs.append((consequent, reason, row['confidence'], row['lift']))\n",
        "\n",
        "    recs = sorted(recs, key=lambda x: (x[2], x[3]), reverse=True)\n",
        "\n",
        "    seen, final_recs = set(), []\n",
        "    for r in recs:\n",
        "        if r[0] not in seen:\n",
        "            final_recs.append(r)\n",
        "            seen.add(r[0])\n",
        "        if len(final_recs) >= top_n:\n",
        "            break\n",
        "    return final_recs\n",
        "\n"
      ],
      "metadata": {
        "id": "hH5JudxVN4o5"
      },
      "execution_count": 10,
      "outputs": []
    },
    {
      "cell_type": "code",
      "source": [
        "# ---------------------------\n",
        "# 5. Build Rules Separately for Prior and Train\n",
        "# ---------------------------\n",
        "rules_prior_product = build_rules(order_products_prior, \"product_name\")\n",
        "rules_train_product = build_rules(order_products_train, \"product_name\")\n"
      ],
      "metadata": {
        "id": "Ta0bteP0N9vD"
      },
      "execution_count": 11,
      "outputs": []
    },
    {
      "cell_type": "code",
      "source": [
        "# ---------------------------\n",
        "# 6. Test Recommendations\n",
        "# ---------------------------\n",
        "cart_products = {\"Bag of Organic Bananas\", \"Whole Milk\"}\n",
        "\n",
        "print(\"\\n=== PRIOR ORDERS: PRODUCT-LEVEL RECOMMENDATIONS ===\")\n",
        "for item, reason, conf, lift in recommend(cart_products, rules_prior_product, top_n=5):\n",
        "    print(f\"- {item} | {reason} (confidence={conf:.2f}, lift={lift:.2f})\")\n",
        "\n",
        "print(\"\\n=== TRAIN ORDERS: PRODUCT-LEVEL RECOMMENDATIONS ===\")\n",
        "for item, reason, conf, lift in recommend(cart_products, rules_train_product, top_n=5):\n",
        "    print(f\"- {item} | {reason} (confidence={conf:.2f}, lift={lift:.2f})\")"
      ],
      "metadata": {
        "colab": {
          "base_uri": "https://localhost:8080/"
        },
        "id": "751WWmWWOCL3",
        "outputId": "b16e5b80-9030-450d-f57f-6ff44b7e84e3"
      },
      "execution_count": 12,
      "outputs": [
        {
          "output_type": "stream",
          "name": "stdout",
          "text": [
            "\n",
            "=== PRIOR ORDERS: PRODUCT-LEVEL RECOMMENDATIONS ===\n",
            "- Organic Hass Avocado | Because you bought Bag of Organic Bananas, customers also often buy Organic Hass Avocado (confidence=0.17, lift=2.61)\n",
            "- Organic Strawberries | Because you bought Bag of Organic Bananas, customers also often buy Organic Strawberries (confidence=0.14, lift=1.69)\n",
            "- Organic Raspberries | Because you bought Bag of Organic Bananas, customers also often buy Organic Raspberries (confidence=0.12, lift=2.73)\n",
            "- Organic Baby Spinach | Because you bought Bag of Organic Bananas, customers also often buy Organic Baby Spinach (confidence=0.11, lift=1.61)\n",
            "\n",
            "=== TRAIN ORDERS: PRODUCT-LEVEL RECOMMENDATIONS ===\n",
            "- Organic Strawberries | Because you bought Bag of Organic Bananas, customers also often buy Organic Strawberries (confidence=0.21, lift=2.42)\n",
            "- Organic Hass Avocado | Because you bought Bag of Organic Bananas, customers also often buy Organic Hass Avocado (confidence=0.17, lift=3.22)\n",
            "- Organic Baby Spinach | Because you bought Bag of Organic Bananas, customers also often buy Organic Baby Spinach (confidence=0.14, lift=1.88)\n",
            "- Organic Raspberries | Because you bought Bag of Organic Bananas, customers also often buy Organic Raspberries (confidence=0.12, lift=3.05)\n"
          ]
        }
      ]
    }
  ]
}