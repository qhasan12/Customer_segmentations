{
  "cells": [
    {
      "cell_type": "code",
      "execution_count": 2,
      "metadata": {},
      "outputs": [
        {
          "name": "stderr",
          "output_type": "stream",
          "text": [
            "C:\\Users\\Qamar Hasan\\AppData\\Roaming\\Python\\Python313\\site-packages\\tqdm\\auto.py:21: TqdmWarning: IProgress not found. Please update jupyter and ipywidgets. See https://ipywidgets.readthedocs.io/en/stable/user_install.html\n",
            "  from .autonotebook import tqdm as notebook_tqdm\n"
          ]
        },
        {
          "name": "stdout",
          "output_type": "stream",
          "text": [
            "Path to dataset files: C:\\Users\\Qamar Hasan\\.cache\\kagglehub\\datasets\\psparks\\instacart-market-basket-analysis\\versions\\1\n"
          ]
        }
      ],
      "source": [
        "import kagglehub\n",
        "\n",
        "# Download latest version\n",
        "path = kagglehub.dataset_download(\"psparks/instacart-market-basket-analysis\")\n",
        "\n",
        "print(\"Path to dataset files:\", path)"
      ]
    },
    {
      "cell_type": "code",
      "execution_count": null,
      "metadata": {},
      "outputs": [],
      "source": [
        "import pandas as pd\n",
        "from mlxtend.preprocessing import TransactionEncoder\n",
        "from mlxtend.frequent_patterns import fpgrowth, association_rules\n",
        "\n",
        "# ---------------------------\n",
        "# 1. Load Data\n",
        "# ---------------------------\n",
        "aisles = pd.read_csv(f\"{path}/aisles.csv\")\n",
        "dept = pd.read_csv(f\"{path}/departments.csv\")\n",
        "products = pd.read_csv(f\"{path}/products.csv\")\n",
        "orders = pd.read_csv(f\"{path}/orders.csv\")\n",
        "order_prior = pd.read_csv(f\"{path}/order_products__prior.csv\")\n",
        "order_train = pd.read_csv(f\"{path}/order_products__train.csv\")\n",
        "\n",
        "# ---------------------------\n",
        "# 2. Merge Data\n",
        "# ---------------------------\n",
        "order_products = (order_prior\n",
        "    .merge(products, on=\"product_id\", how=\"left\")\n",
        "    .merge(aisles, on=\"aisle_id\", how=\"left\")\n",
        "    .merge(dept, on=\"department_id\", how=\"left\")\n",
        "    .merge(orders[['order_id','user_id','order_dow','order_hour_of_day']], \n",
        "           on=\"order_id\", how=\"left\"))\n",
        "\n",
        "# ---------------------------\n",
        "# 3. Recommendation Function\n",
        "# ---------------------------\n",
        "def build_rules(order_products, group_col, max_orders=5000, min_support=0.01):\n",
        "    \"\"\"Generate association rules at given granularity (product/aisle/department).\"\"\"\n",
        "    # Build transactions\n",
        "    transactions = order_products.groupby(\"order_id\")[group_col].apply(list).tolist()\n",
        "    transactions = transactions[:max_orders]\n",
        "\n",
        "    # One-hot encode\n",
        "    te = TransactionEncoder()\n",
        "    te_ary = te.fit(transactions).transform(transactions)\n",
        "    df = pd.DataFrame(te_ary, columns=te.columns_)\n",
        "\n",
        "    # FP-Growth\n",
        "    frequent_itemsets = fpgrowth(df, min_support=min_support, use_colnames=True)\n",
        "    rules = association_rules(frequent_itemsets, metric=\"lift\", min_threshold=1.0)\n",
        "    rules = rules.sort_values(by=[\"confidence\",\"lift\"], ascending=False)\n",
        "# \n",
        "    return rules\n"
      ]
    },
    {
      "cell_type": "code",
      "execution_count": 4,
      "metadata": {},
      "outputs": [
        {
          "name": "stdout",
          "output_type": "stream",
          "text": [
            "\n",
            "=== PRODUCT-LEVEL RECOMMENDATIONS ===\n",
            "- Organic Hass Avocado | Because you bought Bag of Organic Bananas, customers also often buy Organic Hass Avocado (confidence=0.17, lift=2.61)\n",
            "- Organic Strawberries | Because you bought Bag of Organic Bananas, customers also often buy Organic Strawberries (confidence=0.14, lift=1.69)\n",
            "- Organic Raspberries | Because you bought Bag of Organic Bananas, customers also often buy Organic Raspberries (confidence=0.12, lift=2.73)\n",
            "- Organic Baby Spinach | Because you bought Bag of Organic Bananas, customers also often buy Organic Baby Spinach (confidence=0.11, lift=1.61)\n",
            "\n",
            "=== AISLE-LEVEL RECOMMENDATIONS ===\n",
            "- fresh vegetables | Because you bought yogurt, fresh fruits, customers also often buy fresh vegetables (confidence=0.63, lift=1.42)\n",
            "- packaged vegetables fruits | Because you bought yogurt, fresh fruits, customers also often buy packaged vegetables fruits (confidence=0.54, lift=1.47)\n",
            "- milk | Because you bought yogurt, fresh fruits, customers also often buy milk (confidence=0.38, lift=1.61)\n",
            "- packaged cheese | Because you bought yogurt, fresh fruits, customers also often buy packaged cheese (confidence=0.37, lift=1.59)\n",
            "- bread | Because you bought yogurt, fresh fruits, customers also often buy bread (confidence=0.28, lift=1.72)\n",
            "\n",
            "=== DEPARTMENT-LEVEL RECOMMENDATIONS ===\n",
            "- dairy eggs | Because you bought produce, customers also often buy dairy eggs (confidence=0.74, lift=1.09)\n",
            "- snacks | Because you bought produce, customers also often buy snacks (confidence=0.45, lift=1.02)\n",
            "- frozen | Because you bought produce, customers also often buy frozen (confidence=0.40, lift=1.07)\n",
            "- pantry | Because you bought produce, customers also often buy pantry (confidence=0.39, lift=1.09)\n",
            "- beverages | Because you bought produce, customers also often buy beverages (confidence=0.36, lift=1.08)\n"
          ]
        }
      ],
      "source": [
        "def recommend(cart_items, rules, top_n=5):\n",
        "    \"\"\"Return recommendations with reasoning based on given rules.\"\"\"\n",
        "    cart_items = set(cart_items)\n",
        "    recs = []\n",
        "    for _, row in rules.iterrows():\n",
        "        if row['antecedents'].issubset(cart_items):\n",
        "            for consequent in row['consequents']:\n",
        "                if consequent not in cart_items:\n",
        "                    reason = (f\"Because you bought {', '.join(row['antecedents'])}, \"\n",
        "                              f\"customers also often buy {consequent}\")\n",
        "                    recs.append((consequent, reason, row['confidence'], row['lift']))\n",
        "\n",
        "    recs = sorted(recs, key=lambda x: (x[2], x[3]), reverse=True)\n",
        "\n",
        "    seen, final_recs = set(), []\n",
        "    for r in recs:\n",
        "        if r[0] not in seen:\n",
        "            final_recs.append(r)\n",
        "            seen.add(r[0])\n",
        "        if len(final_recs) >= top_n:\n",
        "            break\n",
        "    return final_recs\n",
        "\n",
        "# ---------------------------\n",
        "# 4. Generate Rules for All Levels\n",
        "# ---------------------------\n",
        "rules_product = build_rules(order_products, \"product_name\")\n",
        "rules_aisle = build_rules(order_products, \"aisle\")\n",
        "rules_department = build_rules(order_products, \"department\")\n",
        "\n",
        "# ---------------------------\n",
        "# 5. Test Recommendations\n",
        "# ---------------------------\n",
        "cart_products = {\"Bag of Organic Bananas\", \"Whole Milk\"}\n",
        "cart_aisles = {\"fresh fruits\", \"yogurt\"}\n",
        "cart_departments = {\"produce\", \"dairy\"}\n",
        "\n",
        "print(\"\\n=== PRODUCT-LEVEL RECOMMENDATIONS ===\")\n",
        "for item, reason, conf, lift in recommend(cart_products, rules_product, top_n=5):\n",
        "    print(f\"- {item} | {reason} (confidence={conf:.2f}, lift={lift:.2f})\")\n",
        "\n",
        "print(\"\\n=== AISLE-LEVEL RECOMMENDATIONS ===\")\n",
        "for item, reason, conf, lift in recommend(cart_aisles, rules_aisle, top_n=5):\n",
        "    print(f\"- {item} | {reason} (confidence={conf:.2f}, lift={lift:.2f})\")\n",
        "\n",
        "print(\"\\n=== DEPARTMENT-LEVEL RECOMMENDATIONS ===\")\n",
        "for item, reason, conf, lift in recommend(cart_departments, rules_department, top_n=5):\n",
        "    print(f\"- {item} | {reason} (confidence={conf:.2f}, lift={lift:.2f})\")"
      ]
    },
    {
      "cell_type": "code",
      "execution_count": 5,
      "metadata": {},
      "outputs": [
        {
          "name": "stdout",
          "output_type": "stream",
          "text": [
            "\n",
            "=== USER 7 CART ===\n",
            "{'Uncured Slow Cooked Ham', 'Vanilla Coffee Concentrate', 'Organic Apple Slices', 'Mexican Coffee', 'Organic Strawberries', 'Lactose Free Fat Free Milk', 'Organic Half & Half', 'Antioxidant Infusions Ipanema Pomegranate Beverage', 'Antioxidant Infusions Beverage Malawi Mango', 'Soft Potato Bread'}\n",
            "\n",
            "=== PERSONALIZED PRODUCT-LEVEL RECOMMENDATIONS ===\n",
            "- Banana | Because you bought Organic Strawberries, customers also often buy Banana (confidence=0.23, lift=1.53)\n",
            "- Bag of Organic Bananas | Because you bought Organic Strawberries, customers also often buy Bag of Organic Bananas (confidence=0.21, lift=1.69)\n",
            "- Organic Hass Avocado | Because you bought Organic Strawberries, customers also often buy Organic Hass Avocado (confidence=0.16, lift=2.44)\n",
            "- Organic Baby Spinach | Because you bought Organic Strawberries, customers also often buy Organic Baby Spinach (confidence=0.14, lift=2.05)\n",
            "- Organic Raspberries | Because you bought Organic Strawberries, customers also often buy Organic Raspberries (confidence=0.12, lift=2.72)\n"
          ]
        }
      ],
      "source": [
        "# ---------------------------\n",
        "# 6. Personalized Cart Fetch\n",
        "# ---------------------------\n",
        "def get_user_cart(user_id, order_products, group_col=\"product_name\", last_only=True):\n",
        "    \"\"\"Fetch items from a user's last order or all past orders.\"\"\"\n",
        "    user_orders = order_products[order_products[\"user_id\"] == user_id]\n",
        "    \n",
        "    if user_orders.empty:\n",
        "        return set()  # no history for this user\n",
        "    \n",
        "    if last_only:\n",
        "        # Get last order_id for this user\n",
        "        last_order_id = user_orders[\"order_id\"].max()\n",
        "        cart = set(user_orders[user_orders[\"order_id\"] == last_order_id][group_col])\n",
        "    else:\n",
        "        # Take union of all items user ever bought\n",
        "        cart = set(user_orders[group_col])\n",
        "    \n",
        "    return cart\n",
        "\n",
        "# ---------------------------\n",
        "# 7. Example: Personalized Recommendation\n",
        "# ---------------------------\n",
        "user_id = 7  # change this to any user from orders.csv\n",
        "user_cart = get_user_cart(user_id, order_products, group_col=\"product_name\", last_only=True)\n",
        "\n",
        "print(f\"\\n=== USER {user_id} CART ===\")\n",
        "print(user_cart)\n",
        "\n",
        "if user_cart:\n",
        "    print(\"\\n=== PERSONALIZED PRODUCT-LEVEL RECOMMENDATIONS ===\")\n",
        "    for item, reason, conf, lift in recommend(user_cart, rules_product, top_n=5):\n",
        "        print(f\"- {item} | {reason} (confidence={conf:.2f}, lift={lift:.2f})\")\n",
        "else:\n",
        "    print(\"No history available for this user.\")\n"
      ]
    },
    {
      "cell_type": "code",
      "execution_count": 7,
      "metadata": {},
      "outputs": [],
      "source": [
        "def get_user_cart(user_id, order_products, group_col=\"product_name\", last_only=True):\n",
        "    \"\"\"Fetch items from a user's last order or all past orders.\"\"\"\n",
        "    user_orders = order_products[order_products[\"user_id\"] == user_id]\n",
        "    \n",
        "    if user_orders.empty:\n",
        "        return set()  \n",
        "    \n",
        "    if last_only:\n",
        "        last_order_id = user_orders[\"order_id\"].max()\n",
        "        cart = set(user_orders[user_orders[\"order_id\"] == last_order_id][group_col])\n",
        "    else:\n",
        "        cart = set(user_orders[group_col])\n",
        "    \n",
        "    return cart\n"
      ]
    },
    {
      "cell_type": "code",
      "execution_count": 8,
      "metadata": {},
      "outputs": [
        {
          "data": {
            "text/plain": [
              "['order_products.pkl']"
            ]
          },
          "execution_count": 8,
          "metadata": {},
          "output_type": "execute_result"
        }
      ],
      "source": [
        "joblib.dump(order_products, \"order_products.pkl\")"
      ]
    },
    {
      "cell_type": "code",
      "execution_count": 6,
      "metadata": {},
      "outputs": [
        {
          "name": "stdout",
          "output_type": "stream",
          "text": [
            "Rules saved successfully!\n"
          ]
        }
      ],
      "source": [
        "import joblib\n",
        "\n",
        "# Save rules to disk\n",
        "joblib.dump(rules_product, \"rules_product.pkl\")\n",
        "joblib.dump(rules_aisle, \"rules_aisle.pkl\")\n",
        "joblib.dump(rules_department, \"rules_department.pkl\")\n",
        "\n",
        "print(\"Rules saved successfully!\")\n"
      ]
    }
  ],
  "metadata": {
    "accelerator": "GPU",
    "colab": {
      "gpuType": "T4",
      "provenance": []
    },
    "kernelspec": {
      "display_name": "Python 3",
      "name": "python3"
    },
    "language_info": {
      "codemirror_mode": {
        "name": "ipython",
        "version": 3
      },
      "file_extension": ".py",
      "mimetype": "text/x-python",
      "name": "python",
      "nbconvert_exporter": "python",
      "pygments_lexer": "ipython3",
      "version": "3.13.2"
    }
  },
  "nbformat": 4,
  "nbformat_minor": 0
}
